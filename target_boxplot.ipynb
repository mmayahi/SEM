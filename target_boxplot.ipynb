{
 "cells": [
  {
   "cell_type": "code",
   "execution_count": 1,
   "id": "6e79b11d-0ffb-4099-9d92-9d21cd356bf8",
   "metadata": {},
   "outputs": [
    {
     "name": "stderr",
     "output_type": "stream",
     "text": [
      "/tmp/ipykernel_5747/3261476273.py:1: DeprecationWarning: \n",
      "Pyarrow will become a required dependency of pandas in the next major release of pandas (pandas 3.0),\n",
      "(to allow more performant data types, such as the Arrow string type, and better interoperability with other libraries)\n",
      "but was not found to be installed on your system.\n",
      "If this would cause problems for you,\n",
      "please provide us feedback at https://github.com/pandas-dev/pandas/issues/54466\n",
      "        \n",
      "  import pandas as pd\n"
     ]
    }
   ],
   "source": [
    "import pandas as pd\n",
    "import matplotlib.pyplot as plt\n",
    "import seaborn as sns\n",
    "import os\n",
    "\n",
    "# Load the data\n",
    "all_data = pd.read_csv(\"combined_data3.csv\")\n",
    "\n",
    "# List of target columns\n",
    "target_columns = [\n",
    "    \"Uplink_delay\", \"Downlink_delay\", \"Uplink_pcktloss\", \"Downlink_pcktloss\",\n",
    "    \"Uplink_thrpt\", \"Downlink_thrpt\", \"sta_nrg\", \"ap_nrg\", \"sta_overhead\", \"ap_overhead\"\n",
    "]\n",
    "\n",
    "# Fill NaN values in target columns with 0\n",
    "all_data[target_columns] = all_data[target_columns].fillna(0)\n",
    "\n",
    "# Loop through each target column to create plots\n",
    "for target in target_columns:\n",
    "    # List of columns to consider for the current target\n",
    "    scenario_list = [\"Communication_link\", \"Power_save_mechanism\", \"Generated_traffic\",\n",
    "                     \"Transport_protocol\", \"Packets_per_second\", \"Sta_count\", target]\n",
    "    \n",
    "    # Filter data for the current target\n",
    "    scenario_set = all_data[scenario_list]\n",
    "    \n",
    "    # Set seaborn style\n",
    "    sns.set(style=\"whitegrid\")\n",
    "    \n",
    "    # Create directory for the target if it doesn't exist\n",
    "    os.makedirs(target, exist_ok=True)\n",
    "    \n",
    "    # Loop through each scenario to create boxplots\n",
    "    for column in scenario_list:\n",
    "        if column != target:\n",
    "            plt.figure(figsize=(8, 6))\n",
    "            sns.boxplot(x=column, y=target, data=scenario_set)\n",
    "            plt.title(f'Boxplot of {target} by {column}')\n",
    "            plt.savefig(f\"{target}/{column}.png\")\n",
    "            plt.close()"
   ]
  },
  {
   "cell_type": "code",
   "execution_count": null,
   "id": "808838da-da10-429d-841a-29427ae64d6c",
   "metadata": {},
   "outputs": [],
   "source": []
  }
 ],
 "metadata": {
  "kernelspec": {
   "display_name": "Python 3 (ipykernel)",
   "language": "python",
   "name": "python3"
  },
  "language_info": {
   "codemirror_mode": {
    "name": "ipython",
    "version": 3
   },
   "file_extension": ".py",
   "mimetype": "text/x-python",
   "name": "python",
   "nbconvert_exporter": "python",
   "pygments_lexer": "ipython3",
   "version": "3.10.12"
  }
 },
 "nbformat": 4,
 "nbformat_minor": 5
}

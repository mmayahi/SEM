{
 "cells": [
  {
   "cell_type": "code",
   "execution_count": 1,
   "id": "4eaa439d-5ca2-4717-8f15-6af9f254d275",
   "metadata": {},
   "outputs": [],
   "source": [
    "import matplotlib.pyplot as plt\n",
    "import seaborn as sns\n",
    "import pandas as pd\n",
    "import os\n",
    "# Load the data\n",
    "file_paths = {'ap_nrg.csv', 'ap_overhead.csv', 'Downlink_delay.csv', 'Downlink_pcktloss.csv', 'Downlink_thrpt.csv', 'sta_nrg.csv', 'sta_overhead.csv', 'Uplink_delay.csv', 'Uplink_pcktloss.csv','Uplink_thrpt.csv'}\n",
    "\n",
    "# Set the style for the plots\n",
    "sns.set(style=\"whitegrid\")\n",
    "\n",
    "for file_path in file_paths:\n",
    "    data = pd.read_csv(file_path)\n",
    "\n",
    "    # Extract the relevant data for plotting\n",
    "    models = data['ML model']\n",
    "    cv_mse = data['Mean cross-validated MSE']\n",
    "    cv_rmse = data['Mean cross-validated RMSE']\n",
    "    mse = data['model MSE']\n",
    "    r2 = data['model R² score']\n",
    "    train_time = data['model Training Time']\n",
    "    predict_time = data['model Prediction Time']\n",
    "\n",
    "    # Create a directory for the current file's plots\n",
    "    plot_directory = file_path[:-4]  # Removes the '.csv' extension\n",
    "    os.makedirs(plot_directory, exist_ok=True)  # Creates the directory if it doesn't exist\n",
    "\n",
    "    def save_plot(x, y, title, xlabel, filename):\n",
    "        plt.figure(figsize=(12, 8))\n",
    "        # If 'models' is supposed to be a categorical variable to differentiate bars:\n",
    "        sns.barplot(x=x, y=y, hue=y, palette=\"viridis\", legend=False)\n",
    "        # If you just want a consistent color and no categories:\n",
    "        # sns.barplot(x=x, y=y, color=\"viridis\")  # 'color' needs to be a valid single color name or hex code.\n",
    "        plt.title(title)\n",
    "        plt.xlabel(xlabel)\n",
    "        plt.ylabel('')\n",
    "        plt.tight_layout()\n",
    "        full_path = os.path.join(plot_directory, filename + \".png\")\n",
    "        plt.savefig(full_path)\n",
    "        plt.close()\n",
    "\n",
    "    # Plot CV-MSE\n",
    "    save_plot(cv_mse, models, 'Cross Validate MSE', 'Mean Squared Error', 'CV-MeanSquaredError')\n",
    "\n",
    "    # Plot CV-RMSE\n",
    "    save_plot(cv_rmse, models, 'Cross Validate RMSE', 'Root Mean Squared Error', 'CV_RootMeanSquaredError')\n",
    "    \n",
    "    # Plot MSE\n",
    "    save_plot(mse, models, 'Model MSE', 'Mean Squared Error', 'MeanSquaredError')\n",
    "\n",
    "    # Plot R² score\n",
    "    save_plot(r2, models, 'Model R² Score', 'R² Score', 'R2Score')\n",
    "\n",
    "    # Plot Training Time\n",
    "    save_plot(train_time, models, 'Model Training Time', 'Training Time (seconds)', 'TrainingTime')\n",
    "\n",
    "    # Plot Prediction Time\n",
    "    save_plot(predict_time, models, 'Model Prediction Time', 'Prediction Time (seconds)', 'PredictionTime')"
   ]
  },
  {
   "cell_type": "code",
   "execution_count": null,
   "id": "4a331f1e-dbda-4a95-8bff-a10ebf5ae927",
   "metadata": {},
   "outputs": [],
   "source": []
  }
 ],
 "metadata": {
  "kernelspec": {
   "display_name": "Python 3 (ipykernel)",
   "language": "python",
   "name": "python3"
  },
  "language_info": {
   "codemirror_mode": {
    "name": "ipython",
    "version": 3
   },
   "file_extension": ".py",
   "mimetype": "text/x-python",
   "name": "python",
   "nbconvert_exporter": "python",
   "pygments_lexer": "ipython3",
   "version": "3.10.12"
  }
 },
 "nbformat": 4,
 "nbformat_minor": 5
}

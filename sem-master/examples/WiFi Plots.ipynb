{
 "cells": [
  {
   "cell_type": "markdown",
   "metadata": {
    "slideshow": {
     "slide_type": "slide"
    },
    "tags": []
   },
   "source": [
    "# Running ns-3 Simulation Campaigns with SEM\n",
    "\n",
    "This example shows how you can use SEM to manage an ns-3 simulation campaign. We\n",
    "will be working with the ``wifi-multi-tos`` simulation script: this ns-3 program\n",
    "creates a WiFi network, measures the aggregate throughput and prints it out to\n",
    "the standard output. "
   ]
  },
  {
   "cell_type": "markdown",
   "metadata": {
    "slideshow": {
     "slide_type": "slide"
    },
    "tags": []
   },
   "source": [
    "## Creating the simulation campaign object\n",
    "\n",
    "First of all, let's import some relevant libraries. We will be using ``sem`` to\n",
    "run our simulations and parse the outputs, and ``matplotlib`` and ``seaborn`` to\n",
    "plot the results."
   ]
  },
  {
   "cell_type": "code",
   "execution_count": 1,
   "metadata": {
    "tags": []
   },
   "outputs": [],
   "source": [
    "import sem\n",
    "import pprint\n",
    "import matplotlib.pyplot as plt\n",
    "import seaborn as sns\n",
    "sns.set_style(\"white\")"
   ]
  },
  {
   "cell_type": "markdown",
   "metadata": {
    "tags": []
   },
   "source": [
    "Most of our interaction with ``sem`` will happen through an object of type\n",
    "``CampaignManager``. When we create our campaign, we need to tell ``sem`` where\n",
    "to find our ns-3 installation, what script we want to run, and where it should\n",
    "save our results."
   ]
  },
  {
   "cell_type": "code",
   "execution_count": 2,
   "metadata": {
    "tags": []
   },
   "outputs": [],
   "source": [
    "ns_path = 'ns-3'\n",
    "script = 'wifi-multi-tos'\n",
    "campaign_dir = \"results\"\n",
    "campaign = sem.CampaignManager.new(ns_path, \n",
    "                                   script, \n",
    "                                   campaign_dir, \n",
    "                                   overwrite=True,\n",
    "                                   max_parallel_processes=8)"
   ]
  },
  {
   "cell_type": "markdown",
   "metadata": {
    "tags": []
   },
   "source": [
    "At time of campaign creation, ``sem`` compiles ns-3, asks the ns-3 script we\n",
    "want to use for its command line parameters, and looks at the hash of the commit\n",
    "the ns-3 repository is currently at. This data is saved and printed out when we\n",
    "inspect the campaign object."
   ]
  },
  {
   "cell_type": "code",
   "execution_count": 3,
   "metadata": {
    "tags": []
   },
   "outputs": [
    {
     "name": "stdout",
     "output_type": "stream",
     "text": [
      "--- Campaign info ---\n",
      "script: wifi-multi-tos\n",
      "params: {'nWifi': 4.0, 'distance': 1.0, 'simulationTime': 10.0, 'useRts': False, 'mcs': 7.0, 'channelWidth': None, 'useShortGuardInterval': False}\n",
      "HEAD: 6aae3d04c51af2f60daabc9dd9da120a838623c0\n",
      "Runner type: <class 'sem.parallelrunner.ParallelRunner'>\n",
      "-----------\n"
     ]
    }
   ],
   "source": [
    "print(campaign)"
   ]
  },
  {
   "cell_type": "markdown",
   "metadata": {
    "slideshow": {
     "slide_type": "slide"
    },
    "tags": []
   },
   "source": [
    "## Running simulations\n",
    "\n",
    "Now that we created our simulation campaign object, we can use it to run some\n",
    "simulations. In order to do this, we need to specify what parameter combinations\n",
    "we are interested in running. The ``wifi-multi-tos`` script supports the\n",
    "following command line parameters:\n",
    "\n",
    "- ``nWifi``: Number of STAs to simulate\n",
    "- ``distance``: Distance of STAs from the AP\n",
    "- ``useRts``: Whether to enable RTS/CTS\n",
    "- ``useShortGuardInterval``: Whether to use the short guard interval\n",
    "- ``mcs``: Modulation Coding Scheme to use\n",
    "- ``channelWidth``: Channel Width in MHz\n",
    "- ``simulationTime``:  How long to simulate for\n",
    "\n",
    "Say we are interested in seeing how a certain MCS is affected by the distance\n",
    "between the STA and the AP. In this case, we might want to run simulations with\n",
    "different values of the ``mcs`` and ``distance`` parameters. To do this, we\n",
    "create a Python dictionary where the keys are the name of the parameters, and\n",
    "the values are lists of parameter values. When we pass this dictionary to our\n",
    "``campaign`` object's ``run_missing_simulations`` function, ``sem`` will run\n",
    "simulations for each combination of the specified parameter space.\n",
    "\n",
    "We also create a ``runs`` variable to specify how many randomized experiments we\n",
    "want ``sem`` to perform for each parameter combination.\n"
   ]
  },
  {
   "cell_type": "code",
   "execution_count": 4,
   "metadata": {
    "tags": []
   },
   "outputs": [
    {
     "name": "stderr",
     "output_type": "stream",
     "text": [
      "Running simulations: 100%|██████████| 64/64 [00:11<00:00,  5.45simulation/s]\n"
     ]
    }
   ],
   "source": [
    "params = {\n",
    "    'nWifi': [1], \n",
    "    'distance': list(range(0, 80, 10)),\n",
    "    'useRts': [True],  \n",
    "    'useShortGuardInterval': [True],  \n",
    "    'mcs': list(range(0, 8, 2)),  \n",
    "    'channelWidth': [20],  \n",
    "    'simulationTime': [4],  \n",
    "}\n",
    "runs = 2\n",
    "\n",
    "campaign.run_missing_simulations(params, runs=runs)\n"
   ]
  },
  {
   "cell_type": "markdown",
   "metadata": {
    "slideshow": {
     "slide_type": "slide"
    },
    "tags": []
   },
   "source": [
    "## Viewing results\n",
    "\n",
    "Results are now saved in the campaign object's database. We can access them\n",
    "through the campaign's database object, which offers a ``get_complete_results``\n",
    "function:\n"
   ]
  },
  {
   "cell_type": "code",
   "execution_count": 5,
   "metadata": {
    "collapsed": false,
    "jupyter": {
     "outputs_hidden": false
    }
   },
   "outputs": [
    {
     "name": "stdout",
     "output_type": "stream",
     "text": [
      "There are 64 results in the database\n",
      "\n",
      "This is an example result:\n",
      "\n",
      "{'meta': {'elapsed_time': 0.43055272102355957,\n",
      "          'exitcode': 0,\n",
      "          'id': '8433a788-0074-4653-92c1-4a4362c10d33'},\n",
      " 'output': {'stderr': '', 'stdout': 'Aggregated throughput: 0 Mbit/s\\n'},\n",
      " 'params': {'RngRun': 47,\n",
      "            'channelWidth': 20,\n",
      "            'distance': 50,\n",
      "            'mcs': 6,\n",
      "            'nWifi': 1,\n",
      "            'simulationTime': 4,\n",
      "            'useRts': True,\n",
      "            'useShortGuardInterval': True}}\n"
     ]
    }
   ],
   "source": [
    "print(\"There are %s results in the database\\n\" % len(list(campaign.db.get_complete_results())))\n",
    "example_result = campaign.db.get_complete_results()[2]\n",
    "print(\"This is an example result:\\n\")\n",
    "pprint.pprint(example_result)"
   ]
  },
  {
   "cell_type": "markdown",
   "metadata": {},
   "source": [
    "We can see that there are 64 results in the database, corresponding to the\n",
    "simulations we ran earlier. A single result is simply a dictionary, with three\n",
    "keys:\n",
    "- ``meta``, whose value is a dictionary containing information on the simulation execution\n",
    "- ``output``, whose value is a dictionary containing a list of files created by the simulation, in addition to entries containing stdout and stderr\n",
    "- ``params``, whose value is the parameter specification that was used to obtain this result\n",
    "\n",
    "We can thus see the output produced by the simulation easily:\n"
   ]
  },
  {
   "cell_type": "code",
   "execution_count": 6,
   "metadata": {
    "collapsed": false,
    "jupyter": {
     "outputs_hidden": false
    },
    "slideshow": {
     "slide_type": "subslide"
    },
    "tags": []
   },
   "outputs": [
    {
     "name": "stdout",
     "output_type": "stream",
     "text": [
      "Aggregated throughput: 0 Mbit/s\n",
      "\n"
     ]
    }
   ],
   "source": [
    "print(example_result['output']['stdout'])\n"
   ]
  },
  {
   "cell_type": "markdown",
   "metadata": {},
   "source": [
    "If we are interested in running one of such results manually, using waf from our\n",
    "ns-3 installation, ``sem`` provides a function that outputs the appropriate\n",
    "command automatically:\n"
   ]
  },
  {
   "cell_type": "code",
   "execution_count": 7,
   "metadata": {
    "collapsed": false,
    "jupyter": {
     "outputs_hidden": false
    }
   },
   "outputs": [
    {
     "name": "stdout",
     "output_type": "stream",
     "text": [
      "Use this command to reproduce the example result:\n",
      "python3 waf --run \"wifi-multi-tos --nWifi=1 --distance=50 --useRts=True --useShortGuardInterval=True --mcs=6 --channelWidth=20 --simulationTime=4 --RngRun=47\"\n",
      "Or obtain a debug command by setting the debug flag to true:\n",
      "python3 waf --run wifi-multi-tos --command-template=\"gdb --args %s --nWifi=1 --distance=50 --useRts=True --useShortGuardInterval=True --mcs=6 --channelWidth=20 --simulationTime=4 --RngRun=47\"\n"
     ]
    }
   ],
   "source": [
    "waf_command = sem.utils.get_command_from_result(script, example_result)\n",
    "print(\"Use this command to reproduce the example result:\\n%s\" % waf_command)\n",
    "\n",
    "waf_command_debug = sem.utils.get_command_from_result(script, example_result, debug=True)\n",
    "print(\"Or obtain a debug command by setting the debug flag to true:\\n%s\" % waf_command_debug)\n"
   ]
  },
  {
   "cell_type": "markdown",
   "metadata": {},
   "source": [
    "In fact, we can see that we get the same result if we execute the script through `waf` in a shell:"
   ]
  },
  {
   "cell_type": "code",
   "execution_count": 8,
   "metadata": {},
   "outputs": [
    {
     "name": "stdout",
     "output_type": "stream",
     "text": [
      "Executing python3 waf --run wifi-multi-tos --nWifi=1 --distance=50 --useRts=True --useShortGuardInterval=True --mcs=6 --channelWidth=20 --simulationTime=4 --RngRun=47 ...\n",
      "\u001b[32mWaf: Entering directory `/home/davide/Work/sem/examples/ns-3/build/optimized'\u001b[0m\n",
      "\u001b[32mWaf: Leaving directory `/home/davide/Work/sem/examples/ns-3/build/optimized'\u001b[0m\n",
      "\u001b[32mBuild commands will be stored in build/optimized/compile_commands.json\u001b[0m\n",
      "\u001b[32m'build' finished successfully (0.304s)\u001b[0m\n",
      "Aggregated throughput: 0 Mbit/s\n"
     ]
    }
   ],
   "source": [
    "!echo \"Executing $waf_command ...\"\n",
    "!cd $ns_path && $waf_command"
   ]
  },
  {
   "cell_type": "markdown",
   "metadata": {},
   "source": [
    "## Exporting and plotting results\n",
    "Now that the results of the simulations we are interested in running are saved\n",
    "in the database, it's time to obtain some plots. In order to do this, we have to\n",
    "transform strings like:\n"
   ]
  },
  {
   "cell_type": "code",
   "execution_count": 9,
   "metadata": {
    "collapsed": false,
    "jupyter": {
     "outputs_hidden": false
    }
   },
   "outputs": [
    {
     "name": "stdout",
     "output_type": "stream",
     "text": [
      "Aggregated throughput: 0 Mbit/s\n",
      "\n"
     ]
    }
   ],
   "source": [
    "print(example_result['output']['stdout'])"
   ]
  },
  {
   "cell_type": "markdown",
   "metadata": {},
   "source": [
    "into values we can plot. In this case, since we are interested in the aggregate\n",
    "throughput, it will be enough to get the second-to-last word of the stdout\n",
    "string and convert it to a float. We can do this with a function that takes the \n",
    "result as input and outputs the measured throughput. For reasons we will explain\n",
    "later, let's have this function return a list containing our throughput:\n"
   ]
  },
  {
   "cell_type": "code",
   "execution_count": 10,
   "metadata": {
    "collapsed": false,
    "jupyter": {
     "outputs_hidden": false
    }
   },
   "outputs": [],
   "source": [
    "@sem.utils.output_labels(['Throughput [Mbit/s]'])\n",
    "@sem.utils.only_load_some_files(['stdout'])\n",
    "def get_average_throughput(result):\n",
    "    return [float(result['output']['stdout'].split(\" \")[-2])]"
   ]
  },
  {
   "cell_type": "markdown",
   "metadata": {},
   "source": [
    "We can test the function is working properly on our example result:"
   ]
  },
  {
   "cell_type": "code",
   "execution_count": 11,
   "metadata": {
    "collapsed": false,
    "jupyter": {
     "outputs_hidden": false
    }
   },
   "outputs": [
    {
     "data": {
      "text/plain": [
       "[0.0]"
      ]
     },
     "execution_count": 11,
     "metadata": {},
     "output_type": "execute_result"
    }
   ],
   "source": [
    "get_average_throughput(example_result)"
   ]
  },
  {
   "cell_type": "markdown",
   "metadata": {},
   "source": [
    "Looks ok! ``sem`` can accept functions defined like this, and use them on all\n",
    "the available results to produce neatly formatted and easy-to-use data\n",
    "structures. Let's create a Pandas DataFrame using the\n",
    "``get_results_as_dataframe`` function:\n"
   ]
  },
  {
   "cell_type": "code",
   "execution_count": 12,
   "metadata": {
    "collapsed": false,
    "jupyter": {
     "outputs_hidden": false
    }
   },
   "outputs": [],
   "source": [
    "# Use the parsing function to create a Pandas dataframe\n",
    "results = campaign.get_results_as_dataframe(get_average_throughput,\n",
    "                                            params=params)"
   ]
  },
  {
   "cell_type": "markdown",
   "metadata": {},
   "source": [
    "Let's now inspect the ``results`` DataArray:"
   ]
  },
  {
   "cell_type": "code",
   "execution_count": 13,
   "metadata": {
    "collapsed": false,
    "jupyter": {
     "outputs_hidden": false
    }
   },
   "outputs": [
    {
     "data": {
      "text/html": [
       "<div>\n",
       "<style scoped>\n",
       "    .dataframe tbody tr th:only-of-type {\n",
       "        vertical-align: middle;\n",
       "    }\n",
       "\n",
       "    .dataframe tbody tr th {\n",
       "        vertical-align: top;\n",
       "    }\n",
       "\n",
       "    .dataframe thead th {\n",
       "        text-align: right;\n",
       "    }\n",
       "</style>\n",
       "<table border=\"1\" class=\"dataframe\">\n",
       "  <thead>\n",
       "    <tr style=\"text-align: right;\">\n",
       "      <th></th>\n",
       "      <th>nWifi</th>\n",
       "      <th>distance</th>\n",
       "      <th>useRts</th>\n",
       "      <th>useShortGuardInterval</th>\n",
       "      <th>mcs</th>\n",
       "      <th>channelWidth</th>\n",
       "      <th>simulationTime</th>\n",
       "      <th>RngRun</th>\n",
       "      <th>Throughput [Mbit/s]</th>\n",
       "    </tr>\n",
       "  </thead>\n",
       "  <tbody>\n",
       "    <tr>\n",
       "      <th>0</th>\n",
       "      <td>1</td>\n",
       "      <td>0</td>\n",
       "      <td>True</td>\n",
       "      <td>True</td>\n",
       "      <td>0</td>\n",
       "      <td>20</td>\n",
       "      <td>4</td>\n",
       "      <td>1</td>\n",
       "      <td>5.90272</td>\n",
       "    </tr>\n",
       "    <tr>\n",
       "      <th>1</th>\n",
       "      <td>1</td>\n",
       "      <td>0</td>\n",
       "      <td>True</td>\n",
       "      <td>True</td>\n",
       "      <td>0</td>\n",
       "      <td>20</td>\n",
       "      <td>4</td>\n",
       "      <td>0</td>\n",
       "      <td>5.91155</td>\n",
       "    </tr>\n",
       "    <tr>\n",
       "      <th>2</th>\n",
       "      <td>1</td>\n",
       "      <td>0</td>\n",
       "      <td>True</td>\n",
       "      <td>True</td>\n",
       "      <td>2</td>\n",
       "      <td>20</td>\n",
       "      <td>4</td>\n",
       "      <td>3</td>\n",
       "      <td>15.82990</td>\n",
       "    </tr>\n",
       "    <tr>\n",
       "      <th>3</th>\n",
       "      <td>1</td>\n",
       "      <td>0</td>\n",
       "      <td>True</td>\n",
       "      <td>True</td>\n",
       "      <td>2</td>\n",
       "      <td>20</td>\n",
       "      <td>4</td>\n",
       "      <td>2</td>\n",
       "      <td>15.79750</td>\n",
       "    </tr>\n",
       "    <tr>\n",
       "      <th>4</th>\n",
       "      <td>1</td>\n",
       "      <td>0</td>\n",
       "      <td>True</td>\n",
       "      <td>True</td>\n",
       "      <td>4</td>\n",
       "      <td>20</td>\n",
       "      <td>4</td>\n",
       "      <td>5</td>\n",
       "      <td>29.16030</td>\n",
       "    </tr>\n",
       "    <tr>\n",
       "      <th>...</th>\n",
       "      <td>...</td>\n",
       "      <td>...</td>\n",
       "      <td>...</td>\n",
       "      <td>...</td>\n",
       "      <td>...</td>\n",
       "      <td>...</td>\n",
       "      <td>...</td>\n",
       "      <td>...</td>\n",
       "      <td>...</td>\n",
       "    </tr>\n",
       "    <tr>\n",
       "      <th>59</th>\n",
       "      <td>1</td>\n",
       "      <td>70</td>\n",
       "      <td>True</td>\n",
       "      <td>True</td>\n",
       "      <td>2</td>\n",
       "      <td>20</td>\n",
       "      <td>4</td>\n",
       "      <td>59</td>\n",
       "      <td>0.00000</td>\n",
       "    </tr>\n",
       "    <tr>\n",
       "      <th>60</th>\n",
       "      <td>1</td>\n",
       "      <td>70</td>\n",
       "      <td>True</td>\n",
       "      <td>True</td>\n",
       "      <td>4</td>\n",
       "      <td>20</td>\n",
       "      <td>4</td>\n",
       "      <td>60</td>\n",
       "      <td>0.00000</td>\n",
       "    </tr>\n",
       "    <tr>\n",
       "      <th>61</th>\n",
       "      <td>1</td>\n",
       "      <td>70</td>\n",
       "      <td>True</td>\n",
       "      <td>True</td>\n",
       "      <td>4</td>\n",
       "      <td>20</td>\n",
       "      <td>4</td>\n",
       "      <td>61</td>\n",
       "      <td>0.00000</td>\n",
       "    </tr>\n",
       "    <tr>\n",
       "      <th>62</th>\n",
       "      <td>1</td>\n",
       "      <td>70</td>\n",
       "      <td>True</td>\n",
       "      <td>True</td>\n",
       "      <td>6</td>\n",
       "      <td>20</td>\n",
       "      <td>4</td>\n",
       "      <td>62</td>\n",
       "      <td>0.00000</td>\n",
       "    </tr>\n",
       "    <tr>\n",
       "      <th>63</th>\n",
       "      <td>1</td>\n",
       "      <td>70</td>\n",
       "      <td>True</td>\n",
       "      <td>True</td>\n",
       "      <td>6</td>\n",
       "      <td>20</td>\n",
       "      <td>4</td>\n",
       "      <td>63</td>\n",
       "      <td>0.00000</td>\n",
       "    </tr>\n",
       "  </tbody>\n",
       "</table>\n",
       "<p>64 rows × 9 columns</p>\n",
       "</div>"
      ],
      "text/plain": [
       "    nWifi  distance  useRts  useShortGuardInterval  mcs  channelWidth  \\\n",
       "0       1         0    True                   True    0            20   \n",
       "1       1         0    True                   True    0            20   \n",
       "2       1         0    True                   True    2            20   \n",
       "3       1         0    True                   True    2            20   \n",
       "4       1         0    True                   True    4            20   \n",
       "..    ...       ...     ...                    ...  ...           ...   \n",
       "59      1        70    True                   True    2            20   \n",
       "60      1        70    True                   True    4            20   \n",
       "61      1        70    True                   True    4            20   \n",
       "62      1        70    True                   True    6            20   \n",
       "63      1        70    True                   True    6            20   \n",
       "\n",
       "    simulationTime  RngRun  Throughput [Mbit/s]  \n",
       "0                4       1              5.90272  \n",
       "1                4       0              5.91155  \n",
       "2                4       3             15.82990  \n",
       "3                4       2             15.79750  \n",
       "4                4       5             29.16030  \n",
       "..             ...     ...                  ...  \n",
       "59               4      59              0.00000  \n",
       "60               4      60              0.00000  \n",
       "61               4      61              0.00000  \n",
       "62               4      62              0.00000  \n",
       "63               4      63              0.00000  \n",
       "\n",
       "[64 rows x 9 columns]"
      ]
     },
     "metadata": {},
     "output_type": "display_data"
    }
   ],
   "source": [
    "display(results)\n"
   ]
  },
  {
   "cell_type": "markdown",
   "metadata": {},
   "source": [
    "Now that we have our results collected in such a data structure, plotting comes\n",
    "very naturally using ``seaborn``:"
   ]
  },
  {
   "cell_type": "code",
   "execution_count": 14,
   "metadata": {
    "collapsed": false,
    "jupyter": {
     "outputs_hidden": false
    }
   },
   "outputs": [
    {
     "data": {
      "image/png": "[encoded data removed]",
      "text/plain": [
       "<Figure size 558.875x500 with 1 Axes>"
      ]
     },
     "metadata": {},
     "output_type": "display_data"
    }
   ],
   "source": [
    "sns.catplot(data=results,\n",
    "            x='distance',\n",
    "            y='Throughput [Mbit/s]',\n",
    "            hue='mcs',\n",
    "            kind='point')\n",
    "plt.show()"
   ]
  },
  {
   "cell_type": "markdown",
   "metadata": {},
   "source": [
    "## More plot examples\n",
    "\n",
    "Say we are now interested in seeing the effect of the ``useRts`` and ``useShortGuardInterval`` parameters. We just need to run some additional simulations and re-export results:"
   ]
  },
  {
   "cell_type": "code",
   "execution_count": 15,
   "metadata": {},
   "outputs": [
    {
     "name": "stderr",
     "output_type": "stream",
     "text": [
      "Running simulations: 100%|██████████| 24/24 [00:05<00:00,  4.21simulation/s]\n"
     ]
    }
   ],
   "source": [
    "params = {\n",
    "    'nWifi': [1], \n",
    "    'distance': [10],\n",
    "    'useRts': [False, True],  \n",
    "    'useShortGuardInterval': [False, True],  \n",
    "    'mcs': list(range(0, 8, 2)),  \n",
    "    'channelWidth': [20],  \n",
    "    'simulationTime': [4],  \n",
    "}\n",
    "runs = 2\n",
    "\n",
    "campaign.run_missing_simulations(params, runs=runs)"
   ]
  },
  {
   "cell_type": "markdown",
   "metadata": {},
   "source": [
    "``sem`` will only perform the necessary simulations that have not already been executed to explore the new parameter space. Now, let's re-use the previous parsing function to extract the throughput for the new results:"
   ]
  },
  {
   "cell_type": "code",
   "execution_count": 16,
   "metadata": {},
   "outputs": [],
   "source": [
    "# Use the parsing function to create a Pandas dataframe\n",
    "results = campaign.get_results_as_dataframe(get_average_throughput,\n",
    "                                            params=params)\n",
    "#display(results)"
   ]
  },
  {
   "cell_type": "markdown",
   "metadata": {},
   "source": [
    "As we can see, only 32 results are now parsed by the function, since we specified the parameter space we are interested in when we called ``get_results_as_dataframe``. Now, let's move on to plotting."
   ]
  },
  {
   "cell_type": "code",
   "execution_count": 17,
   "metadata": {},
   "outputs": [
    {
     "data": {
      "image/png": "[encoded data removed]",
      "text/plain": [
       "<Figure size 1168.49x500 with 2 Axes>"
      ]
     },
     "metadata": {},
     "output_type": "display_data"
    }
   ],
   "source": [
    "sns.catplot(data=results,\n",
    "            x='mcs',\n",
    "            y='Throughput [Mbit/s]',\n",
    "            col='useRts', \n",
    "            hue='useShortGuardInterval',\n",
    "            kind='point')\n",
    "plt.show()"
   ]
  },
  {
   "cell_type": "markdown",
   "metadata": {},
   "source": [
    "Once initial plots are obtained, it's easy to adjust the number of repetitions using the runs argument, and get cleaner results."
   ]
  },
  {
   "cell_type": "markdown",
   "metadata": {},
   "source": [
    "Let's see how the number of WiFi devices impacts the distribution of the aggregate throughput:"
   ]
  },
  {
   "cell_type": "code",
   "execution_count": 18,
   "metadata": {},
   "outputs": [
    {
     "name": "stderr",
     "output_type": "stream",
     "text": [
      "Running simulations: 100%|██████████| 98/98 [00:46<00:00,  2.13simulation/s]\n"
     ]
    },
    {
     "data": {
      "image/png": "[encoded data removed]",
      "text/plain": [
       "<Figure size 500x500 with 1 Axes>"
      ]
     },
     "metadata": {},
     "output_type": "display_data"
    }
   ],
   "source": [
    "params = {\n",
    "    'nWifi': list(range(1, 6)), \n",
    "    'distance': [10],\n",
    "    'useRts': [False],  \n",
    "    'useShortGuardInterval': [False],  \n",
    "    'mcs': [6],  \n",
    "    'channelWidth': [20],  \n",
    "    'simulationTime': [4],  \n",
    "}\n",
    "runs = 20\n",
    "\n",
    "campaign.run_missing_simulations(params, runs=runs)\n",
    "\n",
    "results = campaign.get_results_as_dataframe(get_average_throughput,\n",
    "                                            params=params)\n",
    "sns.catplot(data=results,\n",
    "            x='nWifi',\n",
    "            y='Throughput [Mbit/s]',\n",
    "            kind='box')\n",
    "plt.show()"
   ]
  },
  {
   "cell_type": "markdown",
   "metadata": {},
   "source": [
    "Finally, let's see the impact of the `useRts` parameter. Note the usage of the `lambda` function to specify we are not interested in testing `[False, True]` when we have a single STA."
   ]
  },
  {
   "cell_type": "code",
   "execution_count": 19,
   "metadata": {},
   "outputs": [
    {
     "name": "stderr",
     "output_type": "stream",
     "text": [
      "Running simulations: 100%|██████████| 80/80 [01:03<00:00,  1.26simulation/s]\n"
     ]
    },
    {
     "data": {
      "image/png": "[encoded data removed]",
      "text/plain": [
       "<Figure size 584.875x500 with 1 Axes>"
      ]
     },
     "metadata": {},
     "output_type": "display_data"
    }
   ],
   "source": [
    "params = {\n",
    "    'nWifi': list(range(1, 6)), \n",
    "    'distance': [10],\n",
    "    'useRts': lambda p: [False] if p['nWifi'] == 1 else [False, True],  \n",
    "    'useShortGuardInterval': [False],\n",
    "    'mcs': [6],  \n",
    "    'channelWidth': [20],  \n",
    "    'simulationTime': [4],  \n",
    "}\n",
    "runs = 20\n",
    "\n",
    "campaign.run_missing_simulations(params, runs=runs)\n",
    "\n",
    "results = campaign.get_results_as_dataframe(get_average_throughput,\n",
    "                                            params=params)\n",
    "sns.catplot(data=results,\n",
    "            x='nWifi',\n",
    "            y='Throughput [Mbit/s]',\n",
    "            hue='useRts',\n",
    "            split=True,\n",
    "            kind='violin')\n",
    "plt.show()"
   ]
  },
  {
   "cell_type": "markdown",
   "metadata": {},
   "source": [
    "## Sensitivity Analysis\n",
    "\n",
    "Through an integration with [SALib](https://salib.readthedocs.io/en/latest/), SEM allows for a quick assessment of the impact each input of the simulation to the output, using Sensitivity Analysis methods:"
   ]
  },
  {
   "cell_type": "code",
   "execution_count": 20,
   "metadata": {},
   "outputs": [
    {
     "name": "stderr",
     "output_type": "stream",
     "text": [
      "Running simulations: 100%|██████████| 360/360 [00:40<00:00,  8.96simulation/s]\n"
     ]
    },
    {
     "name": "stdout",
     "output_type": "stream",
     "text": [
      "{'S1': array([ 0.68503299,  0.02138148, -0.00080491,  0.44651507, -0.00088851]), 'S1_conf': array([0.39242959, 0.02033584, 0.02050351, 0.42737775, 0.00464737]), 'ST': array([8.90244032e-01, 4.55955495e-03, 4.58472799e-03, 5.40526063e-01,\n",
      "       1.85347892e-04]), 'ST_conf': array([6.19237535e-01, 4.46792103e-03, 3.62193471e-03, 3.67095422e-01,\n",
      "       1.96986718e-04]), 'S2': array([[        nan,  0.03071869,  0.03581605,  0.05371067,  0.03540227],\n",
      "       [        nan,         nan, -0.02427913, -0.01442678, -0.02449401],\n",
      "       [        nan,         nan,         nan,  0.02741976, -0.00805804],\n",
      "       [        nan,         nan,         nan,         nan, -0.0336892 ],\n",
      "       [        nan,         nan,         nan,         nan,         nan]]), 'S2_conf': array([[       nan, 0.44441562, 0.45434611, 0.61582631, 0.44618879],\n",
      "       [       nan,        nan, 0.03379865, 0.07445689, 0.03419138],\n",
      "       [       nan,        nan,        nan, 0.05531242, 0.02064947],\n",
      "       [       nan,        nan,        nan,        nan, 0.58106304],\n",
      "       [       nan,        nan,        nan,        nan,        nan]])}\n"
     ]
    }
   ],
   "source": [
    "ranges = {\n",
    "    # We fix these arguments\n",
    "    'nWifi': [1], \n",
    "    'channelWidth': [20],\n",
    "    # These are the arguments we are interested in\n",
    "    'distance': {'min': 0, 'max': 100},\n",
    "    'useRts': [False, True],  \n",
    "    'useShortGuardInterval': [False, True],  \n",
    "    'mcs': list(range(0, 8)),  \n",
    "    'simulationTime': {'min': 1, 'max': 4},\n",
    "}\n",
    "print(sem.utils.compute_sensitivity_analysis(campaign, get_average_throughput, ranges, samples=30))"
   ]
  },
  {
   "cell_type": "markdown",
   "metadata": {},
   "source": [
    "We obtain an S1 score for each parameter for which we provided a range of values. An higher score means that parameter will have a higher impact on the output."
   ]
  }
 ],
 "metadata": {
  "kernelspec": {
   "display_name": "Python 3",
   "language": "python",
   "name": "python3"
  },
  "language_info": {
   "codemirror_mode": {
    "name": "ipython",
    "version": 3
   },
   "file_extension": ".py",
   "mimetype": "text/x-python",
   "name": "python",
   "nbconvert_exporter": "python",
   "pygments_lexer": "ipython3",
   "version": "3.9.5"
  },
  "name": "wifi-example.ipynb",
  "toc-autonumbering": false,
  "toc-showmarkdowntxt": false
 },
 "nbformat": 4,
 "nbformat_minor": 4
}

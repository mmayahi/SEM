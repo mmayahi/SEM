{
 "cells": [
  {
   "cell_type": "code",
   "execution_count": 1,
   "id": "8c47c922-0fab-4d5e-b1ef-9a27bdb66b4c",
   "metadata": {},
   "outputs": [
    {
     "ename": "IndentationError",
     "evalue": "unexpected indent (724917006.py, line 61)",
     "output_type": "error",
     "traceback": [
      "\u001b[0;36m  File \u001b[0;32m\"/tmp/ipykernel_2862/724917006.py\"\u001b[0;36m, line \u001b[0;32m61\u001b[0m\n\u001b[0;31m    from IPython.display import Image\u001b[0m\n\u001b[0m    ^\u001b[0m\n\u001b[0;31mIndentationError\u001b[0m\u001b[0;31m:\u001b[0m unexpected indent\n"
     ]
    }
   ],
   "source": [
    "from graphviz import Digraph\n",
    "\n",
    "dot = Digraph(comment='Machine Learning Model Flowchart')\n",
    "\n",
    "# Data Preparation\n",
    "dot.node('A', 'Data Preparation')\n",
    "dot.node('A1', 'Generate Synthetic Data')\n",
    "dot.node('A2', 'Create DataFrame')\n",
    "dot.node('A3', 'Split Data into Training and Testing Sets')\n",
    "\n",
    "dot.edge('A', 'A1')\n",
    "dot.edge('A', 'A2')\n",
    "dot.edge('A', 'A3')\n",
    "\n",
    "# Preprocessing\n",
    "dot.node('B', 'Preprocessing')\n",
    "dot.node('B1', 'Define Transformers')\n",
    "dot.node('B1a', 'Numerical Transformer: StandardScaler')\n",
    "dot.node('B1b', 'Categorical Transformer: OneHotEncoder')\n",
    "dot.node('B2', 'Combine Transformers using ColumnTransformer')\n",
    "\n",
    "dot.edge('B', 'B1')\n",
    "dot.edge('B1', 'B1a')\n",
    "dot.edge('B1', 'B1b')\n",
    "dot.edge('B', 'B2')\n",
    "\n",
    "# Model Training\n",
    "dot.node('C', 'Model Training')\n",
    "dot.node('C1', 'Define Model Pipeline')\n",
    "dot.node('C2', 'Define Hyperparameter Grid')\n",
    "dot.node('C3', 'Perform GridSearchCV')\n",
    "\n",
    "dot.edge('C', 'C1')\n",
    "dot.edge('C', 'C2')\n",
    "dot.edge('C', 'C3')\n",
    "\n",
    "# Evaluation\n",
    "dot.node('D', 'Evaluation')\n",
    "dot.node('D1', 'Calculate Cross-validation Metrics')\n",
    "dot.node('D2', 'Predict on Test Data')\n",
    "dot.node('D3', 'Measure Training and Prediction Time')\n",
    "dot.node('D4', 'Display Results')\n",
    "\n",
    "dot.edge('D', 'D1')\n",
    "dot.edge('D', 'D2')\n",
    "dot.edge('D', 'D3')\n",
    "dot.edge('D', 'D4')\n",
    "\n",
    "# Connecting major steps\n",
    "dot.edge('A', 'B')\n",
    "dot.edge('B', 'C')\n",
    "dot.edge('C', 'D')\n",
    "\n",
    "# Save the source code\n",
    "dot.save('ml_flowchart.dot')\n",
    "\n",
    "# Render the flowchart\n",
    "dot.render('ml_flowchart', format='png')\n",
    "\n",
    "# If you want to display it within a Jupyter Notebook, you can use the following lines:\n",
    " from IPython.display import Image\n",
    " Image(filename='ml_flowchart.png')"
   ]
  },
  {
   "cell_type": "code",
   "execution_count": null,
   "id": "526a512e-6f0d-45d1-ac8d-f9b239e0d514",
   "metadata": {},
   "outputs": [],
   "source": []
  }
 ],
 "metadata": {
  "kernelspec": {
   "display_name": "Python 3 (ipykernel)",
   "language": "python",
   "name": "python3"
  },
  "language_info": {
   "codemirror_mode": {
    "name": "ipython",
    "version": 3
   },
   "file_extension": ".py",
   "mimetype": "text/x-python",
   "name": "python",
   "nbconvert_exporter": "python",
   "pygments_lexer": "ipython3",
   "version": "3.10.12"
  }
 },
 "nbformat": 4,
 "nbformat_minor": 5
}
